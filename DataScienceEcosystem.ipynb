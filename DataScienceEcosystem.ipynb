{
 "cells": [
  {
   "cell_type": "markdown",
   "id": "c31dd68c-6ee5-4666-936f-aa3b24abe26d",
   "metadata": {},
   "source": [
    "# Data Science Tools and Ecosystem #"
   ]
  },
  {
   "cell_type": "markdown",
   "id": "f47826b4-f56c-4c5c-855b-a331f6376857",
   "metadata": {},
   "source": [
    "In this notebook, Data Science Tools and Ecosystem are summarized."
   ]
  },
  {
   "cell_type": "markdown",
   "id": "40ea081f-d003-472a-bfff-0947e8eb97b1",
   "metadata": {},
   "source": [
    "__Objectives:__\n",
    "- R\n",
    "- python\n",
    "- sql"
   ]
  },
  {
   "cell_type": "markdown",
   "id": "7cd6b4a1-9baf-4a58-97fb-66c08405d917",
   "metadata": {},
   "source": [
    "Some of the popular languages that Data Scientists use are:\n",
    "1. R\n",
    "2. python\n",
    "3. SQL"
   ]
  },
  {
   "cell_type": "markdown",
   "id": "4bb6dbbe-d4f8-404c-a92b-cf5263b93ad0",
   "metadata": {},
   "source": [
    "Some of the commonly used libraries used by Data scientists include:\n",
    "1. Pandas\n",
    "2. Numpy\n",
    "3. matplotlib\n",
    "4. seaborn"
   ]
  },
  {
   "cell_type": "markdown",
   "id": "721d7591-b135-4144-b0ea-057e72da8553",
   "metadata": {},
   "source": [
    "Data Science Tools\n",
    "----- \n",
    "RStudio\n",
    "\n",
    "JupyterLab\n",
    "\n",
    "Github"
   ]
  },
  {
   "cell_type": "markdown",
   "id": "5fcf9639-add4-4ea2-88a8-aec570f62287",
   "metadata": {},
   "source": [
    "### Below are a few examples of evaluating expressions in python ###"
   ]
  },
  {
   "cell_type": "code",
   "execution_count": 18,
   "id": "4ff2a7a7-f393-463e-b73f-db072fbd8a87",
   "metadata": {},
   "outputs": [
    {
     "data": {
      "text/plain": [
       "17"
      ]
     },
     "execution_count": 18,
     "metadata": {},
     "output_type": "execute_result"
    }
   ],
   "source": [
    "#this a simple arithmetic expression to multiply then add integers\n",
    "(3*4)+5"
   ]
  },
  {
   "cell_type": "code",
   "execution_count": 20,
   "id": "60761e9c-1a65-4646-86a9-b2e4d46d47e4",
   "metadata": {},
   "outputs": [
    {
     "data": {
      "text/plain": [
       "3.3333333333333335"
      ]
     },
     "execution_count": 20,
     "metadata": {},
     "output_type": "execute_result"
    }
   ],
   "source": [
    "#this will convert 200 minutes to hours by dividing by 60\n",
    "200/60"
   ]
  },
  {
   "cell_type": "markdown",
   "id": "1655b47c-c5be-41bb-be0a-e1db98698a5b",
   "metadata": {},
   "source": [
    "## Author ##\n",
    "Himanshu"
   ]
  },
  {
   "cell_type": "code",
   "execution_count": null,
   "id": "c51ff04e-ab7a-427c-abfe-6e2fcebc77f5",
   "metadata": {},
   "outputs": [],
   "source": []
  }
 ],
 "metadata": {
  "kernelspec": {
   "display_name": "Python [conda env:base] *",
   "language": "python",
   "name": "conda-base-py"
  },
  "language_info": {
   "codemirror_mode": {
    "name": "ipython",
    "version": 3
   },
   "file_extension": ".py",
   "mimetype": "text/x-python",
   "name": "python",
   "nbconvert_exporter": "python",
   "pygments_lexer": "ipython3",
   "version": "3.12.7"
  }
 },
 "nbformat": 4,
 "nbformat_minor": 5
}
